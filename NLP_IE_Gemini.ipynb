{
  "nbformat": 4,
  "nbformat_minor": 0,
  "metadata": {
    "colab": {
      "provenance": []
    },
    "kernelspec": {
      "name": "python3",
      "display_name": "Python 3"
    },
    "language_info": {
      "name": "python"
    }
  },
  "cells": [
    {
      "cell_type": "code",
      "source": [
        "!pip install -q -U google-generativeai"
      ],
      "metadata": {
        "id": "qSLi7QcCWHaV"
      },
      "execution_count": null,
      "outputs": []
    },
    {
      "cell_type": "code",
      "source": [
        "import google.generativeai as genai"
      ],
      "metadata": {
        "id": "g1PlCMtnWOwl"
      },
      "execution_count": null,
      "outputs": []
    },
    {
      "cell_type": "code",
      "source": [
        "API_KEY = #put your API key in here\n",
        "genai.configure(api_key=API_KEY)\n",
        "model = genai.GenerativeModel('gemini-pro')"
      ],
      "metadata": {
        "id": "wDgk6vYZWVV_"
      },
      "execution_count": null,
      "outputs": []
    },
    {
      "cell_type": "code",
      "source": [
        "prompt='''\n",
        "1.You are a Named Entity Recognition in Indonesian Languagge.\n",
        "2.Do some analysis to extract the Entity from the text for some categories, i.e., Person, Organization, Location, Date/Time, and other as Miscellaneous.\n",
        "3.Output Person category as PER, Organization category as ORG, Location category as LOC, Date/Time category as DT, and Miscellaneous category as MISC.\n",
        "4.Return this result as JSON for each entity with character offset from each result.\n",
        "Analyze the sentences as follow: \"'\n",
        "'''\n",
        "\n",
        "query = \"ISTTS sebagai perguruan tinggi di Indonesia terletak di Surabaya.\"\n",
        "response = model.generate_content(prompt+query +'\"')\n",
        "print(response.text)"
      ],
      "metadata": {
        "colab": {
          "base_uri": "https://localhost:8080/",
          "height": 399
        },
        "id": "HZ_eBNMLFllP",
        "outputId": "4c699bad-c5c1-47d3-fc84-447d01f69d16"
      },
      "execution_count": null,
      "outputs": [
        {
          "output_type": "stream",
          "name": "stdout",
          "text": [
            "```json\n",
            "[\n",
            "  {\n",
            "    \"category\": \"ORG\",\n",
            "    \"entity\": \"ISTTS\",\n",
            "    \"offset\": 0,\n",
            "    \"length\": 5\n",
            "  },\n",
            "  {\n",
            "    \"category\": \"LOC\",\n",
            "    \"entity\": \"Indonesia\",\n",
            "    \"offset\": 16,\n",
            "    \"length\": 8\n",
            "  },\n",
            "  {\n",
            "    \"category\": \"LOC\",\n",
            "    \"entity\": \"Surabaya\",\n",
            "    \"offset\": 30,\n",
            "    \"length\": 8\n",
            "  }\n",
            "]\n",
            "```\n"
          ]
        }
      ]
    },
    {
      "cell_type": "code",
      "source": [
        "prompt='''\n",
        "1.Do some analysis to extract the Entity from the text for some categories, i.e., Person, Organization, Location, Date/Time, and other as Miscellaneous.\n",
        "2.Output Person category as PER, Organization category as ORG, Location category as LOC, Date/Time category as DT, and Miscellaneous category as MISC.\n",
        "3.Do a relation extraction from those entity for build the knowledge graph.\n",
        "4.Output this NER result consist of each entity with character offset and output the relation extraction result as edge list.\n",
        "Analyze the input and produce the output as JSON as follow: \"'\n",
        "'''\n",
        "\n",
        "query = 'Indonesia dengan nama resmi Republik Indonesia adalah sebuah negara kepulauan di Asia Tenggara yang dilintasi garis khatulistiwa dan berada di antara daratan benua Asia dan Oseania sehingga dikenal sebagai negara lintas benua, serta antara Samudra Pasifik dan Samudra Hindia.'\n",
        "response = model.generate_content(prompt+query +'\"')\n",
        "print(response.text)"
      ],
      "metadata": {
        "colab": {
          "base_uri": "https://localhost:8080/",
          "height": 1000
        },
        "id": "ORx5zRzjWdrl",
        "outputId": "e9682ce6-adee-4c9a-ed12-beaf1eeb5015"
      },
      "execution_count": null,
      "outputs": [
        {
          "output_type": "stream",
          "name": "stdout",
          "text": [
            "```json\n",
            "{\n",
            " \"entities\": [\n",
            "  {\n",
            "   \"text\": \"Indonesia\",\n",
            "   \"offset\": 0,\n",
            "   \"type\": \"LOCATION\"\n",
            "  },\n",
            "  {\n",
            "   \"text\": \"Republik Indonesia\",\n",
            "   \"offset\": 11,\n",
            "   \"type\": \"ORG\"\n",
            "  },\n",
            "  {\n",
            "   \"text\": \"Asia Tenggara\",\n",
            "   \"offset\": 36,\n",
            "   \"type\": \"LOCATION\"\n",
            "  },\n",
            "  {\n",
            "   \"text\": \"daratan benua Asia\",\n",
            "   \"offset\": 59,\n",
            "   \"type\": \"LOCATION\"\n",
            "  },\n",
            "  {\n",
            "   \"text\": \"Oseania\",\n",
            "   \"offset\": 72,\n",
            "   \"type\": \"LOCATION\"\n",
            "  },\n",
            "  {\n",
            "   \"text\": \"Samudra Pasifik\",\n",
            "   \"offset\": 92,\n",
            "   \"type\": \"LOCATION\"\n",
            "  },\n",
            "  {\n",
            "   \"text\": \"Samudra India\",\n",
            "   \"offset\": 106,\n",
            "   \"type\": \"LOCATION\"\n",
            "  }\n",
            " ],\n",
            " \"relations\": [\n",
            "  {\n",
            "   \"subject\": \"Indonesia\",\n",
            "   \"object\": \"Republik Indonesia\",\n",
            "   \"type\": \"IS_A\"\n",
            "  },\n",
            "  {\n",
            "   \"subject\": \"Indonesia\",\n",
            "   \"object\": \"Asia Tenggara\",\n",
            "   \"type\": \"LOCATED_IN\"\n",
            "  },\n",
            "  {\n",
            "   \"subject\": \"Indonesia\",\n",
            "   \"object\": \"daratan benua Asia\",\n",
            "   \"type\": \"LOCATED_IN\"\n",
            "  },\n",
            "  {\n",
            "   \"subject\": \"Indonesia\",\n",
            "   \"object\": \"Oseania\",\n",
            "   \"type\": \"LOCATED_IN\"\n",
            "  },\n",
            "  {\n",
            "   \"subject\": \"Indonesia\",\n",
            "   \"object\": \"Samudra Pasifik\",\n",
            "   \"type\": \"BORDERED_BY\"\n",
            "  },\n",
            "  {\n",
            "   \"subject\": \"Indonesia\",\n",
            "   \"object\": \"Samudra India\",\n",
            "   \"type\": \"BORDERED_BY\"\n",
            "  }\n",
            " ]\n",
            "}\n",
            "```\n"
          ]
        }
      ]
    }
  ]
}